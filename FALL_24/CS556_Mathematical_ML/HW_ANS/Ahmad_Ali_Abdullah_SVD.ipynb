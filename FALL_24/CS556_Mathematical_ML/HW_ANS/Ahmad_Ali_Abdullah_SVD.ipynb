{
 "cells": [
  {
   "cell_type": "code",
   "execution_count": 5,
   "metadata": {},
   "outputs": [],
   "source": [
    "import numpy as np\n",
    "\n",
    "# load data\n",
    "U = np.load('D:/Stevens GIT/Stevens_IT-MS_in_CS/FALL_24/CS556_Mathematical_ML/HW/hw2/U_new.npy')\n",
    "S = np.load('D:\\Stevens GIT\\Stevens_IT-MS_in_CS\\FALL_24\\CS556_Mathematical_ML\\HW\\hw2\\S_new.npy')\n",
    "V = np.load('D:\\Stevens GIT\\Stevens_IT-MS_in_CS\\FALL_24\\CS556_Mathematical_ML\\HW\\hw2\\V_transpose_new.npy')"
   ]
  },
  {
   "cell_type": "code",
   "execution_count": 7,
   "metadata": {},
   "outputs": [
    {
     "name": "stdout",
     "output_type": "stream",
     "text": [
      "User 1's estimated rating of the movie Amelie: 1.50\n",
      "Strength of concept 1 in the SVD decomposition: 13.27\n",
      "Average rating for Movie 3 across all users: 3.83\n",
      "Movie with the overall highest rating: Casablanca\n"
     ]
    }
   ],
   "source": [
    "\n",
    "# define movie titles\n",
    "movies = ['Rambo', 'Top-Gun', 'Harry Potter', 'Amelie', 'Casablanca']\n",
    "\n",
    "# define user ratings matrix\n",
    "R = np.array([\n",
    "    [5.0, 4.5, 0.0, 0.0, 1.0],\n",
    "    [0.0, 0.0, 2.5, 5.0, 5.0],\n",
    "    [4.0, 4.5, 0.0, 0.0, 0.0],\n",
    "    [0.0, 1.5, 4.5, 0.0, 0.0],\n",
    "    [1.0, 0.0, 0.0, 4.0, 5.0],\n",
    "    [0.0, 0.0, 4.5, 0.0, 0.0],\n",
    "])\n",
    "\n",
    "# calculate estimated ratings\n",
    "R_est =U.dot(np.diag(S)).dot(V)\n",
    "\n",
    "# (a) User 1's estimated rating of the movie Amelie\n",
    "u = 0  # user 1\n",
    "m = 3  # movie Amelie\n",
    "rating = R_est[u, m]\n",
    "print(f\"User 1's estimated rating of the movie Amelie: {rating:.2f}\")\n",
    "\n",
    "# (b) Strength of concept 1 in the SVD decomposition\n",
    "s1 = S[0]\n",
    "print(f\"Strength of concept 1 in the SVD decomposition: {s1:.2f}\")\n",
    "\n",
    "# (c) Average rating for Movie 3 across all users\n",
    "m = 2  # movie 3\n",
    "ratings = [r[m] for r in R if r[m] > 0]  # exclude masked ratings\n",
    "avg_rating = np.mean(ratings)\n",
    "if np.isnan(avg_rating):\n",
    "    avg_rating =  np.mean(R_est[:, m])\n",
    "print(f\"Average rating for Movie 3 across all users: {avg_rating:.2f}\")\n",
    "\n",
    "# (d) Movie with the overall highest rating\n",
    "max_rating = -np.inf\n",
    "max_movie = None\n",
    "for i, movie in enumerate(movies):\n",
    "    rating = np.sum(R[:, i])\n",
    "    if rating > max_rating:\n",
    "        max_rating = rating\n",
    "        max_movie = movie\n",
    "    rating = np.sum(R_est[:, i])\n",
    "    if rating > max_rating:\n",
    "        max_rating = rating\n",
    "        max_movie = movie\n",
    "print(f\"Movie with the overall highest rating: {max_movie}\")"
   ]
  }
 ],
 "metadata": {
  "kernelspec": {
   "display_name": "Python 3",
   "language": "python",
   "name": "python3"
  },
  "language_info": {
   "codemirror_mode": {
    "name": "ipython",
    "version": 3
   },
   "file_extension": ".py",
   "mimetype": "text/x-python",
   "name": "python",
   "nbconvert_exporter": "python",
   "pygments_lexer": "ipython3",
   "version": "3.10.0"
  }
 },
 "nbformat": 4,
 "nbformat_minor": 2
}
