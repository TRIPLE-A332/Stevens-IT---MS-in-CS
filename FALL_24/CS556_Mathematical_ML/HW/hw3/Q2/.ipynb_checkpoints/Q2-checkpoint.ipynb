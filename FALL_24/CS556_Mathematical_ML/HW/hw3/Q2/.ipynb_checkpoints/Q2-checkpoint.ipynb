{
 "cells": [
  {
   "cell_type": "markdown",
   "id": "8ef6c4b7-6d62-4758-96bb-14f6ff7c85ec",
   "metadata": {},
   "source": [
    "# Q2. Classification with Logistic Regression and SVM\n",
    "\n",
    "For this project we will be working with the [Titanic Data Set from Kaggle](https://www.kaggle.com/c/titanic). We'll be trying to predict a classification- survival or deceased.\n",
    "\n",
    " - Variable Name -  Variable Description \n",
    " - PassengerID - Passenger ID          \n",
    " - Survived - Survival (0 = No;1 = Yes)\n",
    " - Pclass - Passenger Class (1 = 1st; 2 = 2nd; 3 = 3rd)|\n",
    " - Name\t- Name\n",
    " - Sex - Sex\n",
    " - Age - Age\n",
    " - SibSp - Number of Siblings/Spouses Aboard\n",
    " - Parch - Number of Parents/Children Aboard\n",
    " - Ticket - Ticket Number \n",
    " - Fare - Passenger Fare\n",
    " - Cabin - Cabin \n",
    " - Embarked - Port of Embarkation (C = Cherbourg; Q = Queenstown; S = Southampton)|\n",
    "\n",
    "## Import Libraries\n",
    "Import all necessary libraries\n"
   ]
  },
  {
   "cell_type": "code",
   "execution_count": 1,
   "id": "f0741eea-371b-40b2-9b72-7c8a62e2588f",
   "metadata": {
    "tags": []
   },
   "outputs": [],
   "source": [
    "import pandas as pd \n",
    "import matplotlib.pyplot as plt\n",
    "import seaborn as sns\n",
    "\n",
    "from sklearn.model_selection import train_test_split\n",
    "from sklearn.linear_model import LogisticRegression\n",
    "from sklearn.svm import SVC\n",
    "\n",
    "from sklearn.metrics import confusion_matrix\n",
    "from sklearn.metrics import classification_report\n",
    "from sklearn.metrics import accuracy_score\n",
    "from sklearn.metrics import precision_recall_fscore_support\n",
    "from sklearn.metrics import roc_curve, auc,precision_recall_curve\n",
    "\n",
    "from sklearn.pipeline import Pipeline\n",
    "from sklearn.preprocessing import MinMaxScaler\n",
    "from sklearn.calibration import CalibrationDisplay\n",
    "\n",
    "import numpy as np"
   ]
  },
  {
   "cell_type": "markdown",
   "id": "946f942b-7a3a-4700-80cb-20ba9340a737",
   "metadata": {},
   "source": [
    "Our target variable will be Survived.  Use the rest of the fields mentioned above to predict whether a passenger survived the Titanic shipwreck."
   ]
  },
  {
   "cell_type": "markdown",
   "id": "6b517937-1440-4cb9-811d-3f9e5306575a",
   "metadata": {},
   "source": [
    "### b.\tData Loading / Preprocessing\n",
    "#### i.\tLoading\n",
    "1. Load the data <df_train.csv> and <df_test.csv> as a pandas dataframe using the ‘pandas.read_csv’ function. The ‘df_test.csv’ has been preprocessed (I.e., null values have been dropped, certain columns etc. have been dropped) and should not be changed apart from splitting the the dataframe into X_test and y_test.  The ‘df_train’ data has NOT been preprocessed and you will need to preprocess and prepare the ‘df_train’ dataframe. Note: Neither df_train nor df_test have been scaled.  The next few steps will enumerate data preprocessing, scaling requirements we need to perform."
   ]
  },
  {
   "cell_type": "code",
   "execution_count": null,
   "id": "3af0ddc1-9efa-4ef3-8b3b-c8d3f4255a5f",
   "metadata": {},
   "outputs": [],
   "source": []
  },
  {
   "cell_type": "markdown",
   "id": "397c174a-1585-4f0d-9ca7-c455dfa00b16",
   "metadata": {},
   "source": [
    "2. The resulting dataframe (I.e., df_train) should have the shape (712,12) indicating that there are 712 instances and 12 columns."
   ]
  },
  {
   "cell_type": "code",
   "execution_count": null,
   "id": "4a829e87-85aa-4648-bd08-ec66c54d2425",
   "metadata": {},
   "outputs": [],
   "source": []
  },
  {
   "cell_type": "markdown",
   "id": "4b272e52-96f6-4d1b-8934-521c25ece59a",
   "metadata": {},
   "source": [
    "3. In df_train, dataframe, currently you have 12 columns which are the following – PassengerID, Pclass, Name, Sex, Age, SibSp, Parch, Ticket, Fare, Cabin, Embarked and the Survived column (target variable)."
   ]
  },
  {
   "cell_type": "code",
   "execution_count": null,
   "id": "c3f76015-073f-4828-b096-96b7d57ccbde",
   "metadata": {},
   "outputs": [],
   "source": []
  },
  {
   "cell_type": "markdown",
   "id": "10d1b260-66e9-449a-8af0-e20fc4f262dd",
   "metadata": {},
   "source": [
    "4. Use the ‘pandas.isnull().sum()’ function check if there are any missing values in the df_train dataframe. Report which columns have missing (i.e., null) values and provide the number of the null values in the columns."
   ]
  },
  {
   "cell_type": "code",
   "execution_count": null,
   "id": "f407f848-4c7d-4bd3-9e27-73613b7f1126",
   "metadata": {},
   "outputs": [],
   "source": []
  },
  {
   "cell_type": "markdown",
   "id": "b77f53c3-772d-4d50-953c-72b5a35d21cb",
   "metadata": {},
   "source": [
    "5. Use the ‘pandas.DataFrame.drop()’ function to drop the ‘Cabin’, ‘PassengerID’, ‘Name’ and ‘Ticket’ columns. "
   ]
  },
  {
   "cell_type": "code",
   "execution_count": null,
   "id": "a538f516-406f-4613-a1ec-146fd662e18c",
   "metadata": {},
   "outputs": [],
   "source": []
  },
  {
   "cell_type": "markdown",
   "id": "2f92049f-8a7c-4c63-98f8-e289257f502a",
   "metadata": {},
   "source": [
    "6. Use the ‘pandas.DataFrame.fillna()’ function to replace the NA values in the ‘Age’ column with the mean value of the ‘Age’ column. Note: This process is called `imputation` (i.e., filling null values with a pre-specified value) and we are employing one strategy called mean imputation, but other strategies can also be employed in general.  \n",
    "Use the ‘dropna()’ function to drop any remaining rows that consist of NA values."
   ]
  },
  {
   "cell_type": "code",
   "execution_count": null,
   "id": "b6c96ce0-c042-4c53-84dc-71e38a62a4fe",
   "metadata": {},
   "outputs": [],
   "source": []
  },
  {
   "cell_type": "markdown",
   "id": "a3b692dd-7d71-4c3d-b469-acb007875338",
   "metadata": {},
   "source": [
    "7. Your task is to use the feature columns to predict the target column. This can be cast as a classification problem.  \n",
    "8. Create a pandas dataframe X_train of features (by dropping the ‘Survival’ column from the df_train dataframe). Create a pandas Series object of targets y_train (by only considering the ‘Survival’ column from the df_train dataframe). Moving forward, we will be working with X_train and y_train. At this point also split the df_test into X_test and y_test by dropping the ‘Survival’ column and storing the features into X_test. Store the ‘Survival’ column in y_test."
   ]
  },
  {
   "cell_type": "code",
   "execution_count": null,
   "id": "ba992150-103a-4f60-a29e-4d3e4c7533f1",
   "metadata": {},
   "outputs": [],
   "source": []
  },
  {
   "cell_type": "markdown",
   "id": "9092b7af-f212-485e-a126-5479b74045aa",
   "metadata": {},
   "source": [
    "#### ii. Data Visualization\n",
    "\n",
    "1. Using matplotlib employ a scatter plot using ‘matplotlib.pyplot.scatter’ between the age of the passengers and the price of their fare. Label the x-axis and the y-axis along with the giving the plot a title."
   ]
  },
  {
   "cell_type": "code",
   "execution_count": null,
   "id": "3d1e9988-acfe-4e09-9bc2-3f08837c7532",
   "metadata": {},
   "outputs": [],
   "source": []
  },
  {
   "cell_type": "markdown",
   "id": "d5004643-d08b-440b-a1cb-6934dd371ecb",
   "metadata": {},
   "source": [
    "2. **Only for this question** use the df_train dataframe. Using matplotlib visualize the number of males and females that survived and their respective passenger classes on two separate bar chart plots using ‘matplotlib.pyplot.bar’ (Passenger Class column). "
   ]
  },
  {
   "cell_type": "code",
   "execution_count": null,
   "id": "887575d2-e177-4090-b485-6700fa5d82be",
   "metadata": {},
   "outputs": [],
   "source": []
  },
  {
   "cell_type": "markdown",
   "id": "11f29292-6bb9-4e39-8081-a6b270053789",
   "metadata": {},
   "source": [
    "3. Using the Target variable (Survived) in y_train plot a bar chart showing the distribution of the ‘Survived’ column. "
   ]
  },
  {
   "cell_type": "code",
   "execution_count": null,
   "id": "3cdd764c-1c8d-41fa-b99a-829ab3b445d5",
   "metadata": {},
   "outputs": [],
   "source": []
  },
  {
   "cell_type": "markdown",
   "id": "1e180983-5648-403f-8377-b97a6128d46f",
   "metadata": {},
   "source": [
    "4. So far you should have successfully been able to load, preprocess and visualize your data. Use the ‘pd.get_dummies()’ function to convert categorical data into dummy variables (‘Sex’ and ‘Embarked’). Make sure to pass `drop_first=True` to the `get_dummies()` function. (Perform this only on X_train store the result back into X_train). "
   ]
  },
  {
   "cell_type": "code",
   "execution_count": null,
   "id": "0808b6e6-716b-4d16-9c2d-c37fdbe40d80",
   "metadata": {},
   "outputs": [],
   "source": []
  },
  {
   "cell_type": "markdown",
   "id": "cdf58bd4-3865-4035-b800-5bdaa080d786",
   "metadata": {},
   "source": [
    "#### iii. Data Scaling\n",
    "\n",
    "1. Employ X_train and MinMaxScaler only on the continuous attributes. Employ the ‘fit_transform()’ function of the scaler to retrieve the new (scaled) version of the data. Store the scaled values in X_train again. "
   ]
  },
  {
   "cell_type": "code",
   "execution_count": null,
   "id": "afff9f83-c91a-4b37-b748-ec2eb45463d5",
   "metadata": {},
   "outputs": [],
   "source": []
  },
  {
   "cell_type": "markdown",
   "id": "c5a8bf6e-4a65-4422-ac16-011a957304c6",
   "metadata": {},
   "source": [
    "2. Scale the X_test using the scaler you have just fit, this time using the `transform()` function. Note: store the scaled values back into X_test.  At the end of this step, you must have X_train, X_test, all scaled according to the MinMaxScaler."
   ]
  },
  {
   "cell_type": "code",
   "execution_count": null,
   "id": "52d94519-2a2d-4bd2-a524-e9f3f112cd5f",
   "metadata": {},
   "outputs": [],
   "source": []
  },
  {
   "cell_type": "markdown",
   "id": "353ad3de-e74e-43f2-81c0-2afeb341a83f",
   "metadata": {
    "tags": []
   },
   "source": [
    "### c. Modelling\n",
    "\n",
    "#### i. Modelling (Model Instantiation / Training) using Logistic Regression classifier\n",
    "\n",
    "1. Employ the Logistic Regression classifier from sklearn and instantiate the model. Label this model as ‘model_lr’  "
   ]
  },
  {
   "cell_type": "code",
   "execution_count": null,
   "id": "b0619dcc-c314-4701-b921-db84b6837088",
   "metadata": {},
   "outputs": [],
   "source": []
  },
  {
   "cell_type": "markdown",
   "id": "b72807cb-6bf2-4c28-9df3-94c41bb63ca3",
   "metadata": {},
   "source": [
    "2. Once instantiated, `fit()` the model using the scaled X_train, y_train data."
   ]
  },
  {
   "cell_type": "code",
   "execution_count": null,
   "id": "6ee84566-ca64-4872-a899-96de79550dec",
   "metadata": {},
   "outputs": [],
   "source": []
  },
  {
   "cell_type": "markdown",
   "id": "841d5270-8307-4dd1-b7fa-d6048552d5d0",
   "metadata": {},
   "source": [
    "3. Employ the `predict()` function to obtain predictions on X_test and store this in a variable labeled as ‘y_pred_lr’."
   ]
  },
  {
   "cell_type": "code",
   "execution_count": null,
   "id": "a2e74e93-75f0-4ee2-a902-218f83aabaa5",
   "metadata": {},
   "outputs": [],
   "source": []
  },
  {
   "cell_type": "markdown",
   "id": "b0ce0527-82f1-46dd-b809-f21858ee7b48",
   "metadata": {},
   "source": [
    "4. Employ the ‘accuracy_score’ function by using the ‘y_pred_lr’ and ‘y_test’ variables as the functions parameters and print the accuracy of the Logistic Regression model. "
   ]
  },
  {
   "cell_type": "code",
   "execution_count": null,
   "id": "ac304620-0a8c-456c-83cc-446eb15615c7",
   "metadata": {},
   "outputs": [],
   "source": []
  },
  {
   "cell_type": "markdown",
   "id": "7ac6384c-1987-4d76-bb64-6a40d8cb2ccf",
   "metadata": {},
   "source": [
    "#### ii. Modelling (Model Instantiation / Training) using Support Vector Machine Classifier\n",
    "\n",
    "1. Employ the Support Vector Machine (SVM) classifier from sklearn () and instantiate the model. Make sure to set `probability=True` when creating the model. Label this model as ‘model_svm’"
   ]
  },
  {
   "cell_type": "code",
   "execution_count": null,
   "id": "4b916234-9321-42ab-87fe-8b64136619f5",
   "metadata": {},
   "outputs": [],
   "source": []
  },
  {
   "cell_type": "markdown",
   "id": "0fd699d8-2e4c-4baa-84fc-33d79d7e042f",
   "metadata": {},
   "source": [
    "2. Once instantiated, ‘fit()’ the model using the scaled X_train, y_train data."
   ]
  },
  {
   "cell_type": "code",
   "execution_count": null,
   "id": "c27eb5e8-17d6-43db-9dc9-a0ea979c5b82",
   "metadata": {},
   "outputs": [],
   "source": []
  },
  {
   "cell_type": "markdown",
   "id": "55d1ef01-8e59-4d31-b200-0ee0a7181b65",
   "metadata": {},
   "source": [
    "3. Employ the `predict()` function to obtain predictions on X_test and store this in a variable labeled as ‘y_pred_lr’."
   ]
  },
  {
   "cell_type": "code",
   "execution_count": null,
   "id": "87c1b5ae-1aa1-40f9-9a0e-48a7d2e156b9",
   "metadata": {},
   "outputs": [],
   "source": []
  },
  {
   "cell_type": "markdown",
   "id": "51f5081d-0808-4b0a-9a6f-79ba924a515e",
   "metadata": {},
   "source": [
    "4. Employ the ‘accuracy_score’ function by using the ‘y_pred_lr’ and ‘y_test’ variables as the functions parameters and print the accuracy of the Logistic Regression model. "
   ]
  },
  {
   "cell_type": "code",
   "execution_count": null,
   "id": "a9171104-bc86-4690-8d4d-47cf90e1dfe3",
   "metadata": {},
   "outputs": [],
   "source": []
  },
  {
   "cell_type": "markdown",
   "id": "ead63ad3-4efe-4dba-8b24-1a06e31be7de",
   "metadata": {},
   "source": [
    "#### iii. Modelling Logistic Regression Classifier with the addition of noise on the target variable.\n",
    "\n",
    "In the data repository you should see three noisy datasets – `df_train_noise20`, `df_train_40`, `df_train_60`. These datasets have already been preprocessed. In each dataset `df_train_noise<integer>`, the integer indicates the percentage of noise injected into the target variable in that training set. The noise can be considered a result of incorrect class labelling of a particular instance. For example, in `df_train_noise20`, 20% of the instances have an incorrect target label in the training set. Our goal will be to train a set of classification models on such noisy training data and test on a clean test set (i.e., same as what we have been using so far `df_test`).\n",
    "\n",
    "Load the `df_train_noise<nl>` (nl means noise level and is a place holder for the integer percentage) datasets and split the data into `X_train_<nl>` and `y_train_<nl>` (e.g., if working with `df_train_noise20` we would split the data and store it in variables named `X_train_20`, `y_train_20`). `X_train_<nl>` should store the features and `y_train_<nl>` should store the target variable.\n",
    "\n",
    "**Repeat the following steps (1 – 4) for the 20%, 40%, 60% noise level datasets.**  \n",
    "Train a new Logistic Regression model on the new training and use the pre-existing `X_test` and `y_test` to evaluate your model. Label this model as `model_lr_noise_<nl>`. Specifically, do the following:\n",
    "1. Employ a new Logistic Regression classifier from sklearn and instantiate the model. Label this model as `model_lr_noise<nl>`\n",
    "2. Once instantiated, `fit()` the model using the `X_train_<nl>` and `y_train_<nl>` data.\n",
    "3. Employ the `predict()` function to obtain predictions on `X_test` and store this in a variable labeled as `y_pred_lr_noise<nl>`.\n",
    "4. Employ the `accuracy_score` function and print the accuracy of the new Logistic Regression model."
   ]
  },
  {
   "cell_type": "code",
   "execution_count": null,
   "id": "2d096259-f749-4032-afa7-559c2d6e6fce",
   "metadata": {},
   "outputs": [],
   "source": []
  },
  {
   "cell_type": "markdown",
   "id": "f36aff05-ed12-4f0e-9918-df9fddba879c",
   "metadata": {},
   "source": [
    "#### iv. Modelling Support Vector Machine (SVM) Classifier with the addition of noise on the target variable.\n",
    "\n",
    "In the data repository you should see three noisy datasets – `df_train_noise20`, `df_train_40`, `df_train_60`. These datasets have already been preprocessed. In each dataset `df_train_noise<integer>`, the integer indicates the percentage of noise injected into the target variable in that training set. The noise can be considered a result of incorrect class labelling of a particular instance. For example, in `df_train_noise20`, 20% of the instances have an incorrect target label in the training set. Our goal will be to train a set of classification models on such noisy training data and test on a clean test set (i.e., same as what we have been using so far `df_test`).  \n",
    "\n",
    "Load the `df_train_noise<nl>` (nl means noise level and is a place holder for the integer percentage) datasets and split the data into `X_train_<nl>` and `y_train_<nl>` (e.g., if working with `df_train_noise20`’ we would split the data and store it in variables named `X_train_20`, `y_train_20`). `X_train_<nl>` should store the features and `y_train_<nl>` should store the target variable. \n",
    "     \n",
    "**Repeat the following steps (1 – 4) for the 20%, 40%, 60% noise datasets.**\n",
    "Train a new SVM classification model on the new training and use the pre-existing `X_test` and `y_test` to evaluate your model. Label this model as `model_svm_noise_<nl>`.  Specifically, do the following:\n",
    "1. Employ a new SVM classifier from sklearn and instantiate the model. Label this model as `model_svm_noise<nl>`\n",
    "2. Once instantiated, `fit()` the model using the `X_train_<nl>` and `y_train_<nl>` data. \n",
    "3. Employ the `predict()` function to obtain predictions on `X_test` and store this in a variable labeled as `y_pred_svm_noise<nl>`.  \n",
    "4. Employ the `accuracy_score` function and print the accuracy of the new Logistic Regression model. "
   ]
  },
  {
   "cell_type": "code",
   "execution_count": null,
   "id": "faf9eeeb-9f6a-4593-a848-9203cf78cb9e",
   "metadata": {},
   "outputs": [],
   "source": []
  },
  {
   "cell_type": "markdown",
   "id": "3113f922-b556-4c61-ba29-b1cb81062e5e",
   "metadata": {},
   "source": [
    "### d. Evaluation\n",
    "\n",
    "#### i. Report F1 Score, Precision, Recall, Accuracy (All on the test set X_test, y_test)\n",
    "\n",
    "1. Employ a `classification_report()` function from sklearn.metrics to report the precision recall and f1 score for each class for the `model_lr` model and the `model_svm` along with a confusion matrix for each of them. "
   ]
  },
  {
   "cell_type": "code",
   "execution_count": null,
   "id": "4989969e-4447-4f25-b23b-41e5792169d7",
   "metadata": {},
   "outputs": [],
   "source": []
  },
  {
   "cell_type": "markdown",
   "id": "ade0321d-4893-41ae-ad12-36752fc23fe1",
   "metadata": {},
   "source": [
    "#### ii. Report the accuracy and classification report for each of the three noisy models (`model_lr_noise<nl>`, `model_svm_noise<nl>`). "
   ]
  },
  {
   "cell_type": "code",
   "execution_count": null,
   "id": "701cf621-f2b2-47a7-bdb6-5c6207b47611",
   "metadata": {},
   "outputs": [],
   "source": []
  },
  {
   "cell_type": "markdown",
   "id": "43ed093f-cbd9-42f7-9672-567e04a2826a",
   "metadata": {},
   "source": [
    "#### iii. Make a calibration plot for each of the models without noisy data (`model_lr`, `model_svm`).\n",
    "\n",
    "Use the CalibrationDisplay class from sklearn.calibration to make your plot."
   ]
  },
  {
   "cell_type": "code",
   "execution_count": null,
   "id": "7efb7a48-4bf8-4c21-a3d1-858b454522cd",
   "metadata": {},
   "outputs": [],
   "source": []
  }
 ],
 "metadata": {
  "kernelspec": {
   "display_name": "Python 3 (ipykernel)",
   "language": "python",
   "name": "python3"
  },
  "language_info": {
   "codemirror_mode": {
    "name": "ipython",
    "version": 3
   },
   "file_extension": ".py",
   "mimetype": "text/x-python",
   "name": "python",
   "nbconvert_exporter": "python",
   "pygments_lexer": "ipython3",
   "version": "3.10.9"
  }
 },
 "nbformat": 4,
 "nbformat_minor": 5
}
