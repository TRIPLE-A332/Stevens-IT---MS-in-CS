{
 "cells": [
  {
   "cell_type": "markdown",
   "metadata": {},
   "source": [
    "### Ali Abdullah Ahmad \n",
    "###  CWID-20031246"
   ]
  },
  {
   "cell_type": "markdown",
   "metadata": {},
   "source": [
    "## **Linear Regression Modification**"
   ]
  },
  {
   "cell_type": "code",
   "execution_count": 113,
   "metadata": {},
   "outputs": [],
   "source": [
    "import pandas as pd"
   ]
  },
  {
   "cell_type": "code",
   "execution_count": 114,
   "metadata": {},
   "outputs": [
    {
     "data": {
      "text/html": [
       "<div>\n",
       "<style scoped>\n",
       "    .dataframe tbody tr th:only-of-type {\n",
       "        vertical-align: middle;\n",
       "    }\n",
       "\n",
       "    .dataframe tbody tr th {\n",
       "        vertical-align: top;\n",
       "    }\n",
       "\n",
       "    .dataframe thead th {\n",
       "        text-align: right;\n",
       "    }\n",
       "</style>\n",
       "<table border=\"1\" class=\"dataframe\">\n",
       "  <thead>\n",
       "    <tr style=\"text-align: right;\">\n",
       "      <th></th>\n",
       "      <th>No</th>\n",
       "      <th>X1 transaction date</th>\n",
       "      <th>X2 house age</th>\n",
       "      <th>X3 distance to the nearest MRT station</th>\n",
       "      <th>X4 number of convenience stores</th>\n",
       "      <th>X5 latitude</th>\n",
       "      <th>X6 longitude</th>\n",
       "      <th>Y house price of unit area</th>\n",
       "    </tr>\n",
       "  </thead>\n",
       "  <tbody>\n",
       "    <tr>\n",
       "      <th>0</th>\n",
       "      <td>1</td>\n",
       "      <td>2012.917</td>\n",
       "      <td>32.0</td>\n",
       "      <td>84.87882</td>\n",
       "      <td>10</td>\n",
       "      <td>24.98298</td>\n",
       "      <td>121.54024</td>\n",
       "      <td>37.9</td>\n",
       "    </tr>\n",
       "    <tr>\n",
       "      <th>1</th>\n",
       "      <td>2</td>\n",
       "      <td>2012.917</td>\n",
       "      <td>19.5</td>\n",
       "      <td>306.59470</td>\n",
       "      <td>9</td>\n",
       "      <td>24.98034</td>\n",
       "      <td>121.53951</td>\n",
       "      <td>42.2</td>\n",
       "    </tr>\n",
       "    <tr>\n",
       "      <th>2</th>\n",
       "      <td>3</td>\n",
       "      <td>2013.583</td>\n",
       "      <td>13.3</td>\n",
       "      <td>561.98450</td>\n",
       "      <td>5</td>\n",
       "      <td>24.98746</td>\n",
       "      <td>121.54391</td>\n",
       "      <td>47.3</td>\n",
       "    </tr>\n",
       "    <tr>\n",
       "      <th>3</th>\n",
       "      <td>4</td>\n",
       "      <td>2013.500</td>\n",
       "      <td>13.3</td>\n",
       "      <td>561.98450</td>\n",
       "      <td>5</td>\n",
       "      <td>24.98746</td>\n",
       "      <td>121.54391</td>\n",
       "      <td>54.8</td>\n",
       "    </tr>\n",
       "    <tr>\n",
       "      <th>4</th>\n",
       "      <td>5</td>\n",
       "      <td>2012.833</td>\n",
       "      <td>5.0</td>\n",
       "      <td>390.56840</td>\n",
       "      <td>5</td>\n",
       "      <td>24.97937</td>\n",
       "      <td>121.54245</td>\n",
       "      <td>43.1</td>\n",
       "    </tr>\n",
       "  </tbody>\n",
       "</table>\n",
       "</div>"
      ],
      "text/plain": [
       "   No  X1 transaction date  X2 house age  \\\n",
       "0   1             2012.917          32.0   \n",
       "1   2             2012.917          19.5   \n",
       "2   3             2013.583          13.3   \n",
       "3   4             2013.500          13.3   \n",
       "4   5             2012.833           5.0   \n",
       "\n",
       "   X3 distance to the nearest MRT station  X4 number of convenience stores  \\\n",
       "0                                84.87882                               10   \n",
       "1                               306.59470                                9   \n",
       "2                               561.98450                                5   \n",
       "3                               561.98450                                5   \n",
       "4                               390.56840                                5   \n",
       "\n",
       "   X5 latitude  X6 longitude  Y house price of unit area  \n",
       "0     24.98298     121.54024                        37.9  \n",
       "1     24.98034     121.53951                        42.2  \n",
       "2     24.98746     121.54391                        47.3  \n",
       "3     24.98746     121.54391                        54.8  \n",
       "4     24.97937     121.54245                        43.1  "
      ]
     },
     "execution_count": 114,
     "metadata": {},
     "output_type": "execute_result"
    }
   ],
   "source": [
    "df = pd.read_csv('.\\Realestate.csv')\n",
    "df.shape\n",
    "df.head()"
   ]
  },
  {
   "cell_type": "code",
   "execution_count": 115,
   "metadata": {},
   "outputs": [
    {
     "data": {
      "text/plain": [
       "No                                        0\n",
       "X1 transaction date                       0\n",
       "X2 house age                              0\n",
       "X3 distance to the nearest MRT station    0\n",
       "X4 number of convenience stores           0\n",
       "X5 latitude                               0\n",
       "X6 longitude                              0\n",
       "Y house price of unit area                0\n",
       "dtype: int64"
      ]
     },
     "execution_count": 115,
     "metadata": {},
     "output_type": "execute_result"
    }
   ],
   "source": [
    "df.isnull().sum()"
   ]
  },
  {
   "cell_type": "code",
   "execution_count": 116,
   "metadata": {},
   "outputs": [],
   "source": [
    "features = df.drop(columns='Y house price of unit area')\n",
    "target = df['Y house price of unit area']\n",
    "\n",
    "Standardized_features = (features - features.mean())/features.std()\n",
    "Standardized_target = (target - target.mean())/target.std()\n",
    "Standardized_data = pd.concat([Standardized_features,Standardized_target.rename(\"Standardized Y house price of unit area\")],axis=1)"
   ]
  },
  {
   "cell_type": "code",
   "execution_count": 117,
   "metadata": {},
   "outputs": [
    {
     "name": "stdout",
     "output_type": "stream",
     "text": [
      "c : RMSE = 0.6447\n"
     ]
    }
   ],
   "source": [
    "from sklearn.linear_model import LinearRegression\n",
    "from sklearn.metrics import mean_squared_error\n",
    "import numpy as np\n",
    "\n",
    "X = Standardized_features.values\n",
    "y = Standardized_target.values\n",
    "\n",
    "model = LinearRegression()\n",
    "model.fit(X,y)\n",
    "\n",
    "y_pred = model.predict(X)\n",
    "rmse = np.sqrt(mean_squared_error(y,y_pred))\n",
    "print(f\"c : RMSE = {rmse:.4f}\")"
   ]
  },
  {
   "cell_type": "code",
   "execution_count": 118,
   "metadata": {},
   "outputs": [
    {
     "name": "stdout",
     "output_type": "stream",
     "text": [
      "d : RMSE (Gradient Descent): 0.6447, Learning Rate: 0.01, Iterations: 1000\n"
     ]
    }
   ],
   "source": [
    "class LinearR:\n",
    "    def __init__(self,learning_rate , iterations):\n",
    "        self.learning_rate = learning_rate\n",
    "        self.iterations = iterations\n",
    "    \n",
    "    def fit(self,X,y):\n",
    "        self.m , self.n = X.shape\n",
    "        self.W = np.zeros(self.n)\n",
    "        self.b = 0\n",
    "        for _ in range(self.iterations):\n",
    "            self.update_weights(X, y)\n",
    "\n",
    "    def update_weights(self, X, y):\n",
    "        y_pred = self.predict(X)\n",
    "        dW = -(2 / self.m) * np.dot(X.T, (y - y_pred))\n",
    "        db = -(2 / self.m) * np.sum(y - y_pred)\n",
    "\n",
    "        self.W -= self.learning_rate * dW\n",
    "        self.b -= self.learning_rate * db\n",
    "\n",
    "    def predict(self, X):\n",
    "        return np.dot(X, self.W) + self.b\n",
    "\n",
    "best_eta = 0.01\n",
    "best_iterations = 1000\n",
    "model_gd = LinearR(learning_rate=best_eta, iterations=best_iterations)\n",
    "model_gd.fit(X, y)\n",
    "\n",
    "y_pred_gd = model_gd.predict(X)\n",
    "rmse_gd = np.sqrt(mean_squared_error(y, y_pred_gd))\n",
    "print(f\"d : RMSE (Gradient Descent): {rmse_gd:.4f}, Learning Rate: {best_eta}, Iterations: {best_iterations}\")\n"
   ]
  },
  {
   "cell_type": "code",
   "execution_count": 119,
   "metadata": {},
   "outputs": [
    {
     "name": "stdout",
     "output_type": "stream",
     "text": [
      "e : RMSE (Stochastic Gradient Descent): 0.6542\n"
     ]
    }
   ],
   "source": [
    "import random\n",
    "\n",
    "class LinearRegressionSGD:\n",
    "    def __init__(self, learning_rate, iterations):\n",
    "        self.learning_rate = learning_rate\n",
    "        self.iterations = iterations\n",
    "\n",
    "    def fit(self, X, y):\n",
    "        self.m, self.n = X.shape\n",
    "        self.W = np.zeros(self.n)\n",
    "        self.b = 0\n",
    "\n",
    "        for _ in range(self.iterations):\n",
    "            idx = random.randint(0, self.m - 1) \n",
    "            X_i = X[idx].reshape(1, -1)  \n",
    "            y_i = y[idx]  \n",
    "            self.update_weights(X_i, y_i)\n",
    "\n",
    "    def update_weights(self, X_i, y_i):\n",
    "        y_pred = self.predict(X_i)\n",
    "        dW = -2 * X_i.T.dot(y_i - y_pred)\n",
    "        db = -2 * (y_i - y_pred)\n",
    "\n",
    "        self.W -= self.learning_rate * dW.flatten()\n",
    "        self.b -= self.learning_rate * db\n",
    "\n",
    "    def predict(self, X):\n",
    "        return np.dot(X, self.W) + self.b\n",
    "\n",
    "\n",
    "sgd_eta = best_eta\n",
    "sgd_iterations = 5000  \n",
    "model_sgd = LinearRegressionSGD(learning_rate=sgd_eta, iterations=sgd_iterations)\n",
    "model_sgd.fit(X, y)\n",
    "\n",
    "\n",
    "y_pred_sgd = model_sgd.predict(X)\n",
    "rmse_sgd = np.sqrt(mean_squared_error(y, y_pred_sgd))\n",
    "print(f\"e : RMSE (Stochastic Gradient Descent): {rmse_sgd:.4f}\")"
   ]
  },
  {
   "cell_type": "markdown",
   "metadata": {},
   "source": [
    "## **Bayesian Theorem**"
   ]
  },
  {
   "cell_type": "code",
   "execution_count": 120,
   "metadata": {},
   "outputs": [
    {
     "name": "stdout",
     "output_type": "stream",
     "text": [
      "(99, 2)\n"
     ]
    },
    {
     "data": {
      "text/html": [
       "<div>\n",
       "<style scoped>\n",
       "    .dataframe tbody tr th:only-of-type {\n",
       "        vertical-align: middle;\n",
       "    }\n",
       "\n",
       "    .dataframe tbody tr th {\n",
       "        vertical-align: top;\n",
       "    }\n",
       "\n",
       "    .dataframe thead th {\n",
       "        text-align: right;\n",
       "    }\n",
       "</style>\n",
       "<table border=\"1\" class=\"dataframe\">\n",
       "  <thead>\n",
       "    <tr style=\"text-align: right;\">\n",
       "      <th></th>\n",
       "      <th>X</th>\n",
       "      <th>Y</th>\n",
       "    </tr>\n",
       "  </thead>\n",
       "  <tbody>\n",
       "    <tr>\n",
       "      <th>0</th>\n",
       "      <td>1</td>\n",
       "      <td>1</td>\n",
       "    </tr>\n",
       "    <tr>\n",
       "      <th>1</th>\n",
       "      <td>0</td>\n",
       "      <td>0</td>\n",
       "    </tr>\n",
       "    <tr>\n",
       "      <th>2</th>\n",
       "      <td>0</td>\n",
       "      <td>0</td>\n",
       "    </tr>\n",
       "    <tr>\n",
       "      <th>3</th>\n",
       "      <td>1</td>\n",
       "      <td>0</td>\n",
       "    </tr>\n",
       "    <tr>\n",
       "      <th>4</th>\n",
       "      <td>1</td>\n",
       "      <td>0</td>\n",
       "    </tr>\n",
       "  </tbody>\n",
       "</table>\n",
       "</div>"
      ],
      "text/plain": [
       "   X  Y\n",
       "0  1  1\n",
       "1  0  0\n",
       "2  0  0\n",
       "3  1  0\n",
       "4  1  0"
      ]
     },
     "execution_count": 120,
     "metadata": {},
     "output_type": "execute_result"
    }
   ],
   "source": [
    "import pandas as pd\n",
    "df = pd.read_csv( './data.csv')\n",
    "print(df.shape)\n",
    "df.head()"
   ]
  },
  {
   "cell_type": "code",
   "execution_count": 121,
   "metadata": {},
   "outputs": [
    {
     "name": "stdout",
     "output_type": "stream",
     "text": [
      "b : Prior Probabilities:\n",
      "P(x=0): 0.5556, P(x=1): 0.4444, P(y=0): 0.5253, P(y=1): 0.4747\n"
     ]
    }
   ],
   "source": [
    "x0 = (df['X'] == 0).mean()\n",
    "x1 = (df['X'] == 1).mean()\n",
    "y0 = (df['Y'] == 0).mean()\n",
    "y1 = (df['Y'] == 1).mean()\n",
    "\n",
    "print(f\"b : Prior Probabilities:\\nP(x=0): {x0:.4f}, P(x=1): {x1:.4f}, P(y=0): {y0:.4f}, P(y=1): {y1:.4f}\")"
   ]
  },
  {
   "cell_type": "code",
   "execution_count": 122,
   "metadata": {},
   "outputs": [
    {
     "name": "stdout",
     "output_type": "stream",
     "text": [
      "c : Likelihoods:\n",
      "P(x=0|y=0): 0.5769, P(x=1|y=0): 0.4231, P(x=0|y=1): 0.5319, P(x=1|y=1): 0.4681\n"
     ]
    }
   ],
   "source": [
    "x0_given_y0 = ((df['X'] == 0) & (df['Y'] == 0)).sum() / (df['Y'] == 0).sum()\n",
    "x1_given_y0 = ((df['X'] == 1) & (df['Y'] == 0)).sum() / (df['Y'] == 0).sum()\n",
    "x0_given_y1 = ((df['X'] == 0) & (df['Y'] == 1)).sum() / (df['Y'] == 1).sum()\n",
    "x1_given_y1 = ((df['X'] == 1) & (df['Y'] == 1)).sum() / (df['Y'] == 1).sum()\n",
    "\n",
    "print(f\"c : Likelihoods:\\nP(x=0|y=0): {x0_given_y0:.4f}, P(x=1|y=0): {x1_given_y0:.4f}, P(x=0|y=1): {x0_given_y1:.4f}, P(x=1|y=1): {x1_given_y1:.4f}\")\n"
   ]
  },
  {
   "cell_type": "code",
   "execution_count": 123,
   "metadata": {},
   "outputs": [
    {
     "name": "stdout",
     "output_type": "stream",
     "text": [
      "Step d: Posterior Probabilities:\n",
      "P(y=1|x=0): 0.4545, P(y=0|x=0): 0.5455, P(y=1|x=1): 0.5000, P(y=0|x=1): 0.5000\n"
     ]
    }
   ],
   "source": [
    "y1_given_x0 = (x0_given_y1 * y1) / x0\n",
    "y0_given_x0 = (x0_given_y0 * y0) / x0\n",
    "y1_given_x1 = (x1_given_y1 * y1) / x1\n",
    "y0_given_x1 = (x1_given_y0 * y0) / x1\n",
    "\n",
    "print(f\"Step d: Posterior Probabilities:\\nP(y=1|x=0): {y1_given_x0:.4f}, P(y=0|x=0): {y0_given_x0:.4f}, P(y=1|x=1): {y1_given_x1:.4f}, P(y=0|x=1): {y0_given_x1:.4f}\")\n"
   ]
  },
  {
   "cell_type": "markdown",
   "metadata": {},
   "source": [
    "## **LDA**"
   ]
  },
  {
   "cell_type": "code",
   "execution_count": 124,
   "metadata": {},
   "outputs": [],
   "source": [
    "from sklearn import datasets\n",
    "from sklearn.model_selection import train_test_split\n",
    "import numpy as np\n",
    "\n",
    "\n",
    "X, y = datasets.make_blobs(n_samples=100, n_features=4, centers=2, cluster_std=1.5, random_state=123)\n",
    "y = np.array([-1 if i == 0 else 1 for i in y])\n",
    "\n",
    "X_train, X_test, y_train, y_test = train_test_split(X, y, test_size=0.2, random_state=42)"
   ]
  },
  {
   "cell_type": "code",
   "execution_count": 125,
   "metadata": {},
   "outputs": [
    {
     "name": "stdout",
     "output_type": "stream",
     "text": [
      "a: Between-class scatter matrix SB:\n",
      " [[ 1.42177386e+00 -1.48370842e+01 -7.83733634e+01 -1.38981884e+01]\n",
      " [-1.48370842e+01  1.54834094e+02  8.17874222e+02  1.45036139e+02]\n",
      " [-7.83733634e+01  8.17874222e+02  4.32022577e+03  7.66118860e+02]\n",
      " [-1.38981884e+01  1.45036139e+02  7.66118860e+02  1.35858203e+02]]\n"
     ]
    }
   ],
   "source": [
    "def compute_sb(X, y):\n",
    "    overall_mean = np.mean(X, axis=0)\n",
    "    classes = np.unique(y)\n",
    "    SB = np.zeros((X.shape[1], X.shape[1]))\n",
    "\n",
    "    for cls in classes:\n",
    "        class_mean = np.mean(X[y == cls], axis=0)\n",
    "        n_cls = X[y == cls].shape[0]\n",
    "        mean_diff = (class_mean - overall_mean).reshape(-1, 1)\n",
    "        SB += n_cls * mean_diff @ mean_diff.T\n",
    "\n",
    "    return SB\n",
    "\n",
    "SB = compute_sb(X_train, y_train)\n",
    "print(\"a: Between-class scatter matrix SB:\\n\", SB)"
   ]
  },
  {
   "cell_type": "code",
   "execution_count": 126,
   "metadata": {},
   "outputs": [
    {
     "name": "stdout",
     "output_type": "stream",
     "text": [
      "b: Within-class scatter matrix SW:\n",
      " [[184.40393024   6.38328991 -16.01885729   8.00343862]\n",
      " [  6.38328991 198.95383305  -1.96744413   5.73688237]\n",
      " [-16.01885729  -1.96744413 150.76557752   2.51812873]\n",
      " [  8.00343862   5.73688237   2.51812873 144.09650929]]\n",
      "b: Inverse of SW:\n",
      " [[ 5.49283896e-03 -1.61524880e-04  5.86666256e-04 -3.08905827e-04]\n",
      " [-1.61524880e-04  5.03753682e-03  5.17913168e-05 -1.92491956e-04]\n",
      " [ 5.86666256e-04  5.17913168e-05  6.69835676e-03 -1.51702444e-04]\n",
      " [-3.08905827e-04 -1.92491956e-04 -1.51702444e-04  6.96726537e-03]]\n"
     ]
    }
   ],
   "source": [
    "def compute_sw(X, y):\n",
    "    classes = np.unique(y)\n",
    "    SW = np.zeros((X.shape[1], X.shape[1]))\n",
    "\n",
    "    for cls in classes:\n",
    "        class_scatter = np.cov(X[y == cls].T, bias=True) * (X[y == cls].shape[0] - 1)\n",
    "        SW += class_scatter\n",
    "\n",
    "    return SW\n",
    "\n",
    "SW = compute_sw(X_train, y_train)\n",
    "SW_inv = np.linalg.inv(SW)\n",
    "print(\"b: Within-class scatter matrix SW:\\n\", SW)\n",
    "print(\"b: Inverse of SW:\\n\", SW_inv)"
   ]
  },
  {
   "cell_type": "code",
   "execution_count": 127,
   "metadata": {},
   "outputs": [
    {
     "name": "stdout",
     "output_type": "stream",
     "text": [
      "3c: Eigenvalues:\n",
      " [ 3.03906240e+01  0.00000000e+00 -6.76572168e-17 -1.07032138e-15]\n",
      "3c: Eigenvectors:\n",
      " [[ 0.05876605 -0.99984555 -0.45527109  0.02315428]\n",
      " [ 0.14254062 -0.00250949 -0.09386513  0.69698811]\n",
      " [ 0.97595821 -0.01718218 -0.14536767 -0.25060232]\n",
      " [ 0.15405937 -0.00271228  0.8733761   0.67146848]]\n"
     ]
    }
   ],
   "source": [
    "eigenvalues, eigenvectors = np.linalg.eig(np.linalg.inv(SW) @ SB)\n",
    "\n",
    "sorted_indices = np.argsort(eigenvalues)[::-1]\n",
    "eigenvalues = eigenvalues[sorted_indices]\n",
    "eigenvectors = eigenvectors[:, sorted_indices]\n",
    "\n",
    "projections = [X_train @ eigenvectors[:, i] for i in range(eigenvectors.shape[1])]\n",
    "\n",
    "print(\"3c: Eigenvalues:\\n\", eigenvalues)\n",
    "print(\"3c: Eigenvectors:\\n\", eigenvectors)\n",
    "\n",
    "best_eigenvector = eigenvectors[:, 0]\n",
    "best_projection = projections[0]\n"
   ]
  },
  {
   "cell_type": "markdown",
   "metadata": {},
   "source": [
    "3c: The eigenvector corresponding to the largest eigenvalue captures the most variance between classes, making it the most ideal for binary classification."
   ]
  },
  {
   "cell_type": "code",
   "execution_count": 128,
   "metadata": {},
   "outputs": [
    {
     "name": "stdout",
     "output_type": "stream",
     "text": [
      "3d: Train accuracy using best eigenvector: 1.0\n"
     ]
    }
   ],
   "source": [
    "from sklearn.metrics import accuracy_score\n",
    "\n",
    "train_projection = X_train @ best_eigenvector\n",
    "\n",
    "train_predictions = np.sign(train_projection)\n",
    "train_accuracy = accuracy_score(y_train, train_predictions)\n",
    "print(\"3d: Train accuracy using best eigenvector:\", train_accuracy)"
   ]
  },
  {
   "cell_type": "code",
   "execution_count": 129,
   "metadata": {},
   "outputs": [
    {
     "name": "stdout",
     "output_type": "stream",
     "text": [
      "3dII: Train accuracies using other eigenvectors: [0.525, 0.4375, 0.4875]\n"
     ]
    }
   ],
   "source": [
    "other_accuracies = []\n",
    "for i in range(1, eigenvectors.shape[1]):\n",
    "    projection = X_train @ eigenvectors[:, i]\n",
    "    predictions = np.sign(projection)\n",
    "    accuracy = accuracy_score(y_train, predictions)\n",
    "    other_accuracies.append(accuracy)\n",
    "\n",
    "print(\"3dII: Train accuracies using other eigenvectors:\", other_accuracies)\n"
   ]
  },
  {
   "cell_type": "markdown",
   "metadata": {},
   "source": [
    "### 3d: The best eigenvector should yield the highest accuracy as it captures the most discriminative information for binary classification."
   ]
  },
  {
   "cell_type": "code",
   "execution_count": 130,
   "metadata": {},
   "outputs": [
    {
     "name": "stdout",
     "output_type": "stream",
     "text": [
      "Test accuracy using LDA: 1.0000\n"
     ]
    }
   ],
   "source": [
    "from sklearn.discriminant_analysis import LinearDiscriminantAnalysis\n",
    "from sklearn.metrics import accuracy_score\n",
    "\n",
    "# Initialize LDA with 1 component\n",
    "lda = LinearDiscriminantAnalysis(n_components=1)\n",
    "\n",
    "# Fit the LDA model on the training data\n",
    "lda.fit(X_train, y_train)\n",
    "\n",
    "# Predict the test data class\n",
    "y_test_pred = lda.predict(X_test)\n",
    "\n",
    "# Report the accuracy\n",
    "test_accuracy = accuracy_score(y_test, y_test_pred)\n",
    "print(f\"Test accuracy using LDA: {test_accuracy:.4f}\")"
   ]
  }
 ],
 "metadata": {
  "kernelspec": {
   "display_name": "Python 3",
   "language": "python",
   "name": "python3"
  },
  "language_info": {
   "codemirror_mode": {
    "name": "ipython",
    "version": 3
   },
   "file_extension": ".py",
   "mimetype": "text/x-python",
   "name": "python",
   "nbconvert_exporter": "python",
   "pygments_lexer": "ipython3",
   "version": "3.10.0"
  }
 },
 "nbformat": 4,
 "nbformat_minor": 2
}
