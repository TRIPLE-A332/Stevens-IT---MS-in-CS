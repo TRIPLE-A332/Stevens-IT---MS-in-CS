{
 "cells": [
  {
   "cell_type": "code",
   "execution_count": 28,
   "metadata": {},
   "outputs": [
    {
     "name": "stdout",
     "output_type": "stream",
     "text": [
      "shape of x train(404, 13)\n",
      "shape of y train(404,)\n",
      "shape of x test(102, 13)\n",
      "shape of y test(102,)\n"
     ]
    }
   ],
   "source": [
    "from keras.datasets import boston_housing\n",
    "\n",
    "(x_train, y_train),(x_test,y_test) = boston_housing.load_data()\n",
    "\n",
    "print(\"shape of x train\"+ str(x_train.shape))\n",
    "print(\"shape of y train\"+ str(y_train.shape))\n",
    "print(\"shape of x test\"+ str(x_test.shape))\n",
    "print(\"shape of y test\"+ str(y_test.shape))"
   ]
  },
  {
   "cell_type": "code",
   "execution_count": 25,
   "metadata": {},
   "outputs": [
    {
     "name": "stdout",
     "output_type": "stream",
     "text": [
      "shape of x train(404, 13)\n",
      "shape of x bar train(404, 14)\n"
     ]
    }
   ],
   "source": [
    "import numpy as np\n",
    "\n",
    "n,d= x_train.shape\n",
    "xbar_train = np.concatenate((x_train,np.ones((n,1))), axis =1)\n",
    "\n",
    "print(\"shape of x train\" + str(x_train.shape))\n",
    "print(\"shape of x bar train\" + str(xbar_train.shape))"
   ]
  },
  {
   "cell_type": "code",
   "execution_count": 26,
   "metadata": {},
   "outputs": [],
   "source": [
    "xx = np.dot(xbar_train.T,xbar_train)\n",
    "xx_inv = np.linalg.pinv(xx)\n",
    "xy= np.dot(xbar_train.T,y_train)\n",
    "w = np.dot(xx_inv,xy)"
   ]
  },
  {
   "cell_type": "code",
   "execution_count": null,
   "metadata": {},
   "outputs": [
    {
     "name": "stdout",
     "output_type": "stream",
     "text": [
      "training mse:22.0048\n"
     ]
    }
   ],
   "source": [
    "y_lsr = np.dot(xbar_train,w)\n",
    "diff = y_lsr-y_train\n",
    "mse = np.mean(diff*diff)\n",
    "print(f\"training mse:{mse:.4f}\")"
   ]
  },
  {
   "cell_type": "code",
   "execution_count": 34,
   "metadata": {},
   "outputs": [],
   "source": [
    "n_test, _ = x_test.shape\n",
    "xbar_test = np.concatenate((x_test, np.ones((n_test,1))),axis=1)\n",
    "y_pred = np.dot(xbar_test,w)"
   ]
  },
  {
   "cell_type": "code",
   "execution_count": 36,
   "metadata": {},
   "outputs": [
    {
     "name": "stdout",
     "output_type": "stream",
     "text": [
      "test mse 23.1956\n"
     ]
    }
   ],
   "source": [
    "diff_t = y_pred - y_test\n",
    "mse = np.mean(diff_t*diff_t)\n",
    "print(f\"test mse {mse:.4f}\")"
   ]
  },
  {
   "cell_type": "code",
   "execution_count": 40,
   "metadata": {},
   "outputs": [
    {
     "name": "stdout",
     "output_type": "stream",
     "text": [
      "test mse\n"
     ]
    },
    {
     "data": {
      "text/plain": [
       "57.382976385373205"
      ]
     },
     "execution_count": 40,
     "metadata": {},
     "output_type": "execute_result"
    }
   ],
   "source": [
    "y_mean = np.mean(y_train)\n",
    "diffT = y_pred - y_mean\n",
    "mse = np.mean(diffT*diffT)\n",
    "print(\"test mse\")\n",
    "mse"
   ]
  }
 ],
 "metadata": {
  "kernelspec": {
   "display_name": "base",
   "language": "python",
   "name": "python3"
  },
  "language_info": {
   "codemirror_mode": {
    "name": "ipython",
    "version": 3
   },
   "file_extension": ".py",
   "mimetype": "text/x-python",
   "name": "python",
   "nbconvert_exporter": "python",
   "pygments_lexer": "ipython3",
   "version": "3.12.7"
  }
 },
 "nbformat": 4,
 "nbformat_minor": 2
}
